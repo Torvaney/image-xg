{
 "cells": [
  {
   "cell_type": "code",
   "execution_count": 1,
   "metadata": {},
   "outputs": [],
   "source": [
    "from pathlib import Path\n",
    "from fastai.vision.all import *"
   ]
  },
  {
   "cell_type": "markdown",
   "metadata": {},
   "source": [
    "Train the model using resnet"
   ]
  },
  {
   "cell_type": "code",
   "execution_count": 2,
   "metadata": {},
   "outputs": [],
   "source": [
    "dls = ImageDataLoaders.from_folder(\n",
    "    Path('../data/processed'), \n",
    "    train='train', \n",
    "    valid_pct=0.2,\n",
    "    size=224,\n",
    "    bs=4,\n",
    "    shuffle_train=True,\n",
    "    # item_tfms=Resize(256, method=ResizeMethod.Squish)\n",
    ")"
   ]
  },
  {
   "cell_type": "code",
   "execution_count": 3,
   "metadata": {
    "scrolled": true
   },
   "outputs": [
    {
     "data": {
      "image/png": "[encoded data removed]",
      "text/plain": [
       "<Figure size 864x216 with 4 Axes>"
      ]
     },
     "metadata": {
      "needs_background": "light"
     },
     "output_type": "display_data"
    }
   ],
   "source": [
    "dls.show_batch(nrows=1, ncols=4)"
   ]
  },
  {
   "cell_type": "code",
   "execution_count": null,
   "metadata": {},
   "outputs": [
    {
     "data": {
      "text/html": [
       "\n",
       "    <div>\n",
       "        <style>\n",
       "            /* Turns off some styling */\n",
       "            progress {\n",
       "                /* gets rid of default border in Firefox and Opera. */\n",
       "                border: none;\n",
       "                /* Needs to be in here for Safari polyfill so background images work as expected. */\n",
       "                background-size: auto;\n",
       "            }\n",
       "            .progress-bar-interrupted, .progress-bar-interrupted::-webkit-progress-bar {\n",
       "                background: #F44336;\n",
       "            }\n",
       "        </style>\n",
       "      <progress value='0' class='' max='1' style='width:300px; height:20px; vertical-align: middle;'></progress>\n",
       "      0.00% [0/1 00:00<00:00]\n",
       "    </div>\n",
       "    \n",
       "<table border=\"1\" class=\"dataframe\">\n",
       "  <thead>\n",
       "    <tr style=\"text-align: left;\">\n",
       "      <th>epoch</th>\n",
       "      <th>train_loss</th>\n",
       "      <th>valid_loss</th>\n",
       "      <th>error_rate</th>\n",
       "      <th>accuracy</th>\n",
       "      <th>time</th>\n",
       "    </tr>\n",
       "  </thead>\n",
       "  <tbody>\n",
       "  </tbody>\n",
       "</table><p>\n",
       "\n",
       "    <div>\n",
       "        <style>\n",
       "            /* Turns off some styling */\n",
       "            progress {\n",
       "                /* gets rid of default border in Firefox and Opera. */\n",
       "                border: none;\n",
       "                /* Needs to be in here for Safari polyfill so background images work as expected. */\n",
       "                background-size: auto;\n",
       "            }\n",
       "            .progress-bar-interrupted, .progress-bar-interrupted::-webkit-progress-bar {\n",
       "                background: #F44336;\n",
       "            }\n",
       "        </style>\n",
       "      <progress value='180' class='' max='248' style='width:300px; height:20px; vertical-align: middle;'></progress>\n",
       "      72.58% [180/248 00:19<00:07 0.4553]\n",
       "    </div>\n",
       "    "
      ],
      "text/plain": [
       "<IPython.core.display.HTML object>"
      ]
     },
     "metadata": {},
     "output_type": "display_data"
    }
   ],
   "source": [
    "learn = cnn_learner(dls, resnet34, metrics=[error_rate, accuracy])\n",
    "learn.fine_tune(1)"
   ]
  },
  {
   "cell_type": "markdown",
   "metadata": {},
   "source": [
    "Review the model"
   ]
  },
  {
   "cell_type": "code",
   "execution_count": null,
   "metadata": {},
   "outputs": [],
   "source": [
    "interp = ClassificationInterpretation.from_learner(learn)\n",
    "interp.plot_confusion_matrix()"
   ]
  },
  {
   "cell_type": "markdown",
   "metadata": {},
   "source": [
    "Make some predictions on the test-data.\n",
    "\n",
    "First, let's go through predicting a single image..."
   ]
  },
  {
   "cell_type": "code",
   "execution_count": null,
   "metadata": {
    "scrolled": false
   },
   "outputs": [],
   "source": [
    "import PIL\n",
    "\n",
    "# Load an image from the test data\n",
    "example_img = PILImage.create('../data/processed/test/goal/07d8857c-00fc-4f4d-b1ae-86b1ed377133.png')\n",
    "\n",
    "display(example_img.to_thumb(256, 256))"
   ]
  },
  {
   "cell_type": "code",
   "execution_count": null,
   "metadata": {},
   "outputs": [],
   "source": [
    "_, _, probs = learn.predict(example_img)\n",
    "\n",
    "xg, _ = probs\n",
    "\n",
    "print(f'xG: {float(xg)}')"
   ]
  },
  {
   "cell_type": "markdown",
   "metadata": {},
   "source": [
    "Load all test data"
   ]
  },
  {
   "cell_type": "code",
   "execution_count": null,
   "metadata": {},
   "outputs": [],
   "source": [
    "import json\n",
    "\n",
    "\n",
    "def get_event_id(filepath):\n",
    "    return filepath.stem\n",
    "\n",
    "\n",
    "def is_goal(filepath):\n",
    "    return filepath.parent.name == 'goal'\n",
    "\n",
    "\n",
    "def predict_xg(filepath):\n",
    "    img = PILImage.create(filepath)\n",
    "    _, _, probs = learn.predict(img)\n",
    "    xg, _ = probs\n",
    "    return float(xg)\n",
    "\n",
    "\n",
    "def get_statsbomb_xg(filepath):\n",
    "    event_id = get_event_id(filepath)\n",
    "    with open(f'../data/raw/{event_id}.json', 'r') as f:\n",
    "        e = json.load(f)\n",
    "    return e['shot']['statsbomb_xg']"
   ]
  },
  {
   "cell_type": "code",
   "execution_count": null,
   "metadata": {},
   "outputs": [],
   "source": [
    "def process_test_shot(filepath):\n",
    "    return {\n",
    "        'path': filepath,\n",
    "        'id': get_event_id(filepath),\n",
    "        'is_goal': is_goal(filepath),\n",
    "        'xg': predict_xg(filepath),\n",
    "        'sb_xg': get_statsbomb_xg(filepath)\n",
    "    }\n",
    "\n",
    "\n",
    "test_shots = Path('../data/processed/test/goal/').ls() + Path('../data/processed/test/no-goal/').ls()\n",
    "shots_predicted = [process_test_shot(s) for s in (test_shots[0:10] + test_shots[-10:])]"
   ]
  },
  {
   "cell_type": "code",
   "execution_count": null,
   "metadata": {
    "scrolled": true
   },
   "outputs": [],
   "source": [
    "import pandas as pd\n",
    "\n",
    "predictions = pd.DataFrame(shots_predicted)\n",
    "\n",
    "# Add inferred columns\n",
    "predictions['diff'] = abs(predictions['sb_xg'] - predictions['xg'])\n",
    "\n",
    "predictions"
   ]
  },
  {
   "cell_type": "markdown",
   "metadata": {},
   "source": [
    "Compare to SB xG"
   ]
  },
  {
   "cell_type": "code",
   "execution_count": null,
   "metadata": {
    "scrolled": false
   },
   "outputs": [],
   "source": [
    "for _, p in predictions.head(10).iterrows():\n",
    "    img = PILImage.create(p['path']).to_thumb(512, 512)\n",
    "    print(f'Im-xG: {p[\"xg\"]:.2f}')\n",
    "    print(f'SB-xG: {p[\"sb_xg\"]:.2f}')\n",
    "    print(f'Diff:  {p[\"diff\"]:.2f}')\n",
    "    display(img)"
   ]
  },
  {
   "cell_type": "code",
   "execution_count": null,
   "metadata": {},
   "outputs": [],
   "source": [
    "# Compare overall error rate between SB and image xG"
   ]
  },
  {
   "cell_type": "code",
   "execution_count": null,
   "metadata": {},
   "outputs": [],
   "source": [
    "# Show the most different N predictions (top & bottom)"
   ]
  }
 ],
 "metadata": {
  "kernelspec": {
   "display_name": "Python 3",
   "language": "python",
   "name": "python3"
  },
  "language_info": {
   "codemirror_mode": {
    "name": "ipython",
    "version": 3
   },
   "file_extension": ".py",
   "mimetype": "text/x-python",
   "name": "python",
   "nbconvert_exporter": "python",
   "pygments_lexer": "ipython3",
   "version": "3.7.7"
  }
 },
 "nbformat": 4,
 "nbformat_minor": 4
}
