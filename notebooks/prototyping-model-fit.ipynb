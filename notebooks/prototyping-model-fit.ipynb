{
 "cells": [
  {
   "cell_type": "code",
   "execution_count": 1,
   "metadata": {},
   "outputs": [],
   "source": [
    "from pathlib import Path\n",
    "from fastai.vision.all import *"
   ]
  },
  {
   "cell_type": "markdown",
   "metadata": {},
   "source": [
    "Train the model using resnet"
   ]
  },
  {
   "cell_type": "code",
   "execution_count": 2,
   "metadata": {},
   "outputs": [],
   "source": [
    "dls = ImageDataLoaders.from_folder(\n",
    "    Path('../data/processed'), \n",
    "    train='train', \n",
    "    valid_pct=0.2,\n",
    "    size=224,\n",
    "    bs=4,\n",
    "    shuffle_train=True,\n",
    "    # item_tfms=Resize(256, method=ResizeMethod.Squish)\n",
    ")"
   ]
  },
  {
   "cell_type": "code",
   "execution_count": 3,
   "metadata": {
    "scrolled": true
   },
   "outputs": [
    {
     "data": {
      "image/png": "[encoded data removed]",
      "text/plain": [
       "<Figure size 864x216 with 4 Axes>"
      ]
     },
     "metadata": {
      "needs_background": "light"
     },
     "output_type": "display_data"
    }
   ],
   "source": [
    "dls.show_batch(nrows=1, ncols=4)"
   ]
  },
  {
   "cell_type": "code",
   "execution_count": 4,
   "metadata": {},
   "outputs": [
    {
     "data": {
      "text/html": [
       "<table border=\"1\" class=\"dataframe\">\n",
       "  <thead>\n",
       "    <tr style=\"text-align: left;\">\n",
       "      <th>epoch</th>\n",
       "      <th>train_loss</th>\n",
       "      <th>valid_loss</th>\n",
       "      <th>error_rate</th>\n",
       "      <th>accuracy</th>\n",
       "      <th>time</th>\n",
       "    </tr>\n",
       "  </thead>\n",
       "  <tbody>\n",
       "    <tr>\n",
       "      <td>0</td>\n",
       "      <td>0.455260</td>\n",
       "      <td>25.771093</td>\n",
       "      <td>0.894949</td>\n",
       "      <td>0.105051</td>\n",
       "      <td>04:37</td>\n",
       "    </tr>\n",
       "  </tbody>\n",
       "</table>"
      ],
      "text/plain": [
       "<IPython.core.display.HTML object>"
      ]
     },
     "metadata": {},
     "output_type": "display_data"
    },
    {
     "data": {
      "text/html": [
       "<table border=\"1\" class=\"dataframe\">\n",
       "  <thead>\n",
       "    <tr style=\"text-align: left;\">\n",
       "      <th>epoch</th>\n",
       "      <th>train_loss</th>\n",
       "      <th>valid_loss</th>\n",
       "      <th>error_rate</th>\n",
       "      <th>accuracy</th>\n",
       "      <th>time</th>\n",
       "    </tr>\n",
       "  </thead>\n",
       "  <tbody>\n",
       "    <tr>\n",
       "      <td>0</td>\n",
       "      <td>0.401678</td>\n",
       "      <td>0.300959</td>\n",
       "      <td>0.093939</td>\n",
       "      <td>0.906061</td>\n",
       "      <td>05:52</td>\n",
       "    </tr>\n",
       "  </tbody>\n",
       "</table>"
      ],
      "text/plain": [
       "<IPython.core.display.HTML object>"
      ]
     },
     "metadata": {},
     "output_type": "display_data"
    }
   ],
   "source": [
    "learn = cnn_learner(dls, resnet34, metrics=[error_rate, accuracy])\n",
    "learn.fine_tune(1)"
   ]
  },
  {
   "cell_type": "markdown",
   "metadata": {},
   "source": [
    "Review the model"
   ]
  },
  {
   "cell_type": "code",
   "execution_count": 5,
   "metadata": {},
   "outputs": [
    {
     "data": {
      "text/html": [],
      "text/plain": [
       "<IPython.core.display.HTML object>"
      ]
     },
     "metadata": {},
     "output_type": "display_data"
    },
    {
     "data": {
      "image/png": "[encoded data removed]",
      "text/plain": [
       "<Figure size 432x288 with 1 Axes>"
      ]
     },
     "metadata": {
      "needs_background": "light"
     },
     "output_type": "display_data"
    }
   ],
   "source": [
    "interp = ClassificationInterpretation.from_learner(learn)\n",
    "interp.plot_confusion_matrix()"
   ]
  },
  {
   "cell_type": "markdown",
   "metadata": {},
   "source": [
    "Make some predictions on the test-data.\n",
    "\n",
    "First, let's go through predicting a single image..."
   ]
  },
  {
   "cell_type": "code",
   "execution_count": 6,
   "metadata": {
    "scrolled": false
   },
   "outputs": [
    {
     "data": {
      "image/png": "[encoded data removed]",
      "text/plain": [
       "<PIL.Image.Image image mode=RGB size=256x192 at 0x7FE6B2DD6310>"
      ]
     },
     "metadata": {},
     "output_type": "display_data"
    }
   ],
   "source": [
    "import PIL\n",
    "\n",
    "# Load an image from the test data\n",
    "example_img = PILImage.create('../data/processed/test/goal/07d8857c-00fc-4f4d-b1ae-86b1ed377133.png')\n",
    "\n",
    "display(example_img.to_thumb(256, 256))"
   ]
  },
  {
   "cell_type": "code",
   "execution_count": 7,
   "metadata": {},
   "outputs": [
    {
     "data": {
      "text/html": [],
      "text/plain": [
       "<IPython.core.display.HTML object>"
      ]
     },
     "metadata": {},
     "output_type": "display_data"
    },
    {
     "name": "stdout",
     "output_type": "stream",
     "text": [
      "xG: 0.14003045856952667\n"
     ]
    }
   ],
   "source": [
    "_, _, probs = learn.predict(example_img)\n",
    "\n",
    "xg, _ = probs\n",
    "\n",
    "print(f'xG: {float(xg)}')"
   ]
  },
  {
   "cell_type": "markdown",
   "metadata": {},
   "source": [
    "Load all test data"
   ]
  },
  {
   "cell_type": "code",
   "execution_count": 8,
   "metadata": {},
   "outputs": [],
   "source": [
    "import json\n",
    "\n",
    "\n",
    "def get_event_id(filepath):\n",
    "    return filepath.stem\n",
    "\n",
    "\n",
    "def is_goal(filepath):\n",
    "    return filepath.parent.name == 'goal'\n",
    "\n",
    "\n",
    "def predict_xg(filepath):\n",
    "    img = PILImage.create(filepath)\n",
    "    _, _, probs = learn.predict(img)\n",
    "    xg, _ = probs\n",
    "    return float(xg)\n",
    "\n",
    "\n",
    "def get_statsbomb_xg(filepath):\n",
    "    event_id = get_event_id(filepath)\n",
    "    with open(f'../data/raw/{event_id}.json', 'r') as f:\n",
    "        e = json.load(f)\n",
    "    return e['shot']['statsbomb_xg']"
   ]
  },
  {
   "cell_type": "code",
   "execution_count": 9,
   "metadata": {},
   "outputs": [
    {
     "data": {
      "text/html": [],
      "text/plain": [
       "<IPython.core.display.HTML object>"
      ]
     },
     "metadata": {},
     "output_type": "display_data"
    },
    {
     "data": {
      "text/html": [],
      "text/plain": [
       "<IPython.core.display.HTML object>"
      ]
     },
     "metadata": {},
     "output_type": "display_data"
    },
    {
     "data": {
      "text/html": [],
      "text/plain": [
       "<IPython.core.display.HTML object>"
      ]
     },
     "metadata": {},
     "output_type": "display_data"
    },
    {
     "data": {
      "text/html": [],
      "text/plain": [
       "<IPython.core.display.HTML object>"
      ]
     },
     "metadata": {},
     "output_type": "display_data"
    },
    {
     "data": {
      "text/html": [],
      "text/plain": [
       "<IPython.core.display.HTML object>"
      ]
     },
     "metadata": {},
     "output_type": "display_data"
    },
    {
     "data": {
      "text/html": [],
      "text/plain": [
       "<IPython.core.display.HTML object>"
      ]
     },
     "metadata": {},
     "output_type": "display_data"
    },
    {
     "data": {
      "text/html": [],
      "text/plain": [
       "<IPython.core.display.HTML object>"
      ]
     },
     "metadata": {},
     "output_type": "display_data"
    },
    {
     "data": {
      "text/html": [],
      "text/plain": [
       "<IPython.core.display.HTML object>"
      ]
     },
     "metadata": {},
     "output_type": "display_data"
    },
    {
     "data": {
      "text/html": [],
      "text/plain": [
       "<IPython.core.display.HTML object>"
      ]
     },
     "metadata": {},
     "output_type": "display_data"
    },
    {
     "data": {
      "text/html": [],
      "text/plain": [
       "<IPython.core.display.HTML object>"
      ]
     },
     "metadata": {},
     "output_type": "display_data"
    },
    {
     "data": {
      "text/html": [],
      "text/plain": [
       "<IPython.core.display.HTML object>"
      ]
     },
     "metadata": {},
     "output_type": "display_data"
    },
    {
     "data": {
      "text/html": [],
      "text/plain": [
       "<IPython.core.display.HTML object>"
      ]
     },
     "metadata": {},
     "output_type": "display_data"
    },
    {
     "data": {
      "text/html": [],
      "text/plain": [
       "<IPython.core.display.HTML object>"
      ]
     },
     "metadata": {},
     "output_type": "display_data"
    },
    {
     "data": {
      "text/html": [],
      "text/plain": [
       "<IPython.core.display.HTML object>"
      ]
     },
     "metadata": {},
     "output_type": "display_data"
    },
    {
     "data": {
      "text/html": [],
      "text/plain": [
       "<IPython.core.display.HTML object>"
      ]
     },
     "metadata": {},
     "output_type": "display_data"
    },
    {
     "data": {
      "text/html": [],
      "text/plain": [
       "<IPython.core.display.HTML object>"
      ]
     },
     "metadata": {},
     "output_type": "display_data"
    },
    {
     "data": {
      "text/html": [],
      "text/plain": [
       "<IPython.core.display.HTML object>"
      ]
     },
     "metadata": {},
     "output_type": "display_data"
    },
    {
     "data": {
      "text/html": [],
      "text/plain": [
       "<IPython.core.display.HTML object>"
      ]
     },
     "metadata": {},
     "output_type": "display_data"
    },
    {
     "data": {
      "text/html": [],
      "text/plain": [
       "<IPython.core.display.HTML object>"
      ]
     },
     "metadata": {},
     "output_type": "display_data"
    },
    {
     "data": {
      "text/html": [],
      "text/plain": [
       "<IPython.core.display.HTML object>"
      ]
     },
     "metadata": {},
     "output_type": "display_data"
    }
   ],
   "source": [
    "def process_test_shot(filepath):\n",
    "    return {\n",
    "        'path': filepath,\n",
    "        'id': get_event_id(filepath),\n",
    "        'is_goal': is_goal(filepath),\n",
    "        'xg': predict_xg(filepath),\n",
    "        'sb_xg': get_statsbomb_xg(filepath)\n",
    "    }\n",
    "\n",
    "\n",
    "test_shots = Path('../data/processed/test/goal/').ls() + Path('../data/processed/test/no-goal/').ls()\n",
    "shots_predicted = [process_test_shot(s) for s in (test_shots[0:10] + test_shots[-10:])]"
   ]
  },
  {
   "cell_type": "code",
   "execution_count": 10,
   "metadata": {
    "scrolled": true
   },
   "outputs": [
    {
     "data": {
      "text/html": [
       "<div>\n",
       "<style scoped>\n",
       "    .dataframe tbody tr th:only-of-type {\n",
       "        vertical-align: middle;\n",
       "    }\n",
       "\n",
       "    .dataframe tbody tr th {\n",
       "        vertical-align: top;\n",
       "    }\n",
       "\n",
       "    .dataframe thead th {\n",
       "        text-align: right;\n",
       "    }\n",
       "</style>\n",
       "<table border=\"1\" class=\"dataframe\">\n",
       "  <thead>\n",
       "    <tr style=\"text-align: right;\">\n",
       "      <th></th>\n",
       "      <th>path</th>\n",
       "      <th>id</th>\n",
       "      <th>is_goal</th>\n",
       "      <th>xg</th>\n",
       "      <th>sb_xg</th>\n",
       "      <th>diff</th>\n",
       "    </tr>\n",
       "  </thead>\n",
       "  <tbody>\n",
       "    <tr>\n",
       "      <th>0</th>\n",
       "      <td>../data/processed/test/goal/85525ef9-5c11-4022-b1bb-c99c2b4d5438.png</td>\n",
       "      <td>85525ef9-5c11-4022-b1bb-c99c2b4d5438</td>\n",
       "      <td>True</td>\n",
       "      <td>0.105497</td>\n",
       "      <td>0.608452</td>\n",
       "      <td>0.502956</td>\n",
       "    </tr>\n",
       "    <tr>\n",
       "      <th>1</th>\n",
       "      <td>../data/processed/test/goal/ec46fa42-ad15-41c3-a636-98d1f1aef472.png</td>\n",
       "      <td>ec46fa42-ad15-41c3-a636-98d1f1aef472</td>\n",
       "      <td>True</td>\n",
       "      <td>0.122598</td>\n",
       "      <td>0.084931</td>\n",
       "      <td>0.037667</td>\n",
       "    </tr>\n",
       "    <tr>\n",
       "      <th>2</th>\n",
       "      <td>../data/processed/test/goal/2bf35d45-298f-4f3b-a1bb-df95b7082500.png</td>\n",
       "      <td>2bf35d45-298f-4f3b-a1bb-df95b7082500</td>\n",
       "      <td>True</td>\n",
       "      <td>0.052165</td>\n",
       "      <td>0.395538</td>\n",
       "      <td>0.343374</td>\n",
       "    </tr>\n",
       "    <tr>\n",
       "      <th>3</th>\n",
       "      <td>../data/processed/test/goal/82557ca0-f831-4ed6-9c97-446f511d5b96.png</td>\n",
       "      <td>82557ca0-f831-4ed6-9c97-446f511d5b96</td>\n",
       "      <td>True</td>\n",
       "      <td>0.097481</td>\n",
       "      <td>0.045310</td>\n",
       "      <td>0.052172</td>\n",
       "    </tr>\n",
       "    <tr>\n",
       "      <th>4</th>\n",
       "      <td>../data/processed/test/goal/6e60e15e-cdc5-45de-b3c8-9f3fee863f3e.png</td>\n",
       "      <td>6e60e15e-cdc5-45de-b3c8-9f3fee863f3e</td>\n",
       "      <td>True</td>\n",
       "      <td>0.192665</td>\n",
       "      <td>0.136169</td>\n",
       "      <td>0.056496</td>\n",
       "    </tr>\n",
       "    <tr>\n",
       "      <th>5</th>\n",
       "      <td>../data/processed/test/goal/95f5ce6d-e6d3-40b7-986c-155cb1ca67fd.png</td>\n",
       "      <td>95f5ce6d-e6d3-40b7-986c-155cb1ca67fd</td>\n",
       "      <td>True</td>\n",
       "      <td>0.150370</td>\n",
       "      <td>0.014144</td>\n",
       "      <td>0.136227</td>\n",
       "    </tr>\n",
       "    <tr>\n",
       "      <th>6</th>\n",
       "      <td>../data/processed/test/goal/4033b905-83ae-4fe4-9efe-f88880c04271.png</td>\n",
       "      <td>4033b905-83ae-4fe4-9efe-f88880c04271</td>\n",
       "      <td>True</td>\n",
       "      <td>0.217345</td>\n",
       "      <td>0.208701</td>\n",
       "      <td>0.008644</td>\n",
       "    </tr>\n",
       "    <tr>\n",
       "      <th>7</th>\n",
       "      <td>../data/processed/test/goal/f233fa8b-52bc-48d4-8477-2c4a6a2f9006.png</td>\n",
       "      <td>f233fa8b-52bc-48d4-8477-2c4a6a2f9006</td>\n",
       "      <td>True</td>\n",
       "      <td>0.017270</td>\n",
       "      <td>0.142359</td>\n",
       "      <td>0.125089</td>\n",
       "    </tr>\n",
       "    <tr>\n",
       "      <th>8</th>\n",
       "      <td>../data/processed/test/goal/4a92a72a-3a81-499e-98d1-fdf065025519.png</td>\n",
       "      <td>4a92a72a-3a81-499e-98d1-fdf065025519</td>\n",
       "      <td>True</td>\n",
       "      <td>0.078312</td>\n",
       "      <td>0.034720</td>\n",
       "      <td>0.043593</td>\n",
       "    </tr>\n",
       "    <tr>\n",
       "      <th>9</th>\n",
       "      <td>../data/processed/test/goal/84ab1af4-93c7-479d-ad11-74cdb94813af.png</td>\n",
       "      <td>84ab1af4-93c7-479d-ad11-74cdb94813af</td>\n",
       "      <td>True</td>\n",
       "      <td>0.091876</td>\n",
       "      <td>0.520126</td>\n",
       "      <td>0.428250</td>\n",
       "    </tr>\n",
       "    <tr>\n",
       "      <th>10</th>\n",
       "      <td>../data/processed/test/no-goal/dca0498f-0172-4e64-88c7-1d9c3820951d.png</td>\n",
       "      <td>dca0498f-0172-4e64-88c7-1d9c3820951d</td>\n",
       "      <td>False</td>\n",
       "      <td>0.014975</td>\n",
       "      <td>0.014098</td>\n",
       "      <td>0.000877</td>\n",
       "    </tr>\n",
       "    <tr>\n",
       "      <th>11</th>\n",
       "      <td>../data/processed/test/no-goal/9fd43d25-1cd5-456e-abf7-f1c5e65086a0.png</td>\n",
       "      <td>9fd43d25-1cd5-456e-abf7-f1c5e65086a0</td>\n",
       "      <td>False</td>\n",
       "      <td>0.194265</td>\n",
       "      <td>0.025252</td>\n",
       "      <td>0.169013</td>\n",
       "    </tr>\n",
       "    <tr>\n",
       "      <th>12</th>\n",
       "      <td>../data/processed/test/no-goal/10ab4ba1-4fb9-477d-8d66-56b86424e4ba.png</td>\n",
       "      <td>10ab4ba1-4fb9-477d-8d66-56b86424e4ba</td>\n",
       "      <td>False</td>\n",
       "      <td>0.028923</td>\n",
       "      <td>0.062353</td>\n",
       "      <td>0.033430</td>\n",
       "    </tr>\n",
       "    <tr>\n",
       "      <th>13</th>\n",
       "      <td>../data/processed/test/no-goal/c49943ba-2209-4bc6-81ad-9771a14d67a2.png</td>\n",
       "      <td>c49943ba-2209-4bc6-81ad-9771a14d67a2</td>\n",
       "      <td>False</td>\n",
       "      <td>0.021920</td>\n",
       "      <td>0.021908</td>\n",
       "      <td>0.000012</td>\n",
       "    </tr>\n",
       "    <tr>\n",
       "      <th>14</th>\n",
       "      <td>../data/processed/test/no-goal/4d754438-4fa8-498a-8712-f781be5be361.png</td>\n",
       "      <td>4d754438-4fa8-498a-8712-f781be5be361</td>\n",
       "      <td>False</td>\n",
       "      <td>0.201165</td>\n",
       "      <td>0.143424</td>\n",
       "      <td>0.057742</td>\n",
       "    </tr>\n",
       "    <tr>\n",
       "      <th>15</th>\n",
       "      <td>../data/processed/test/no-goal/f172084b-827e-4139-9804-4f9160201138.png</td>\n",
       "      <td>f172084b-827e-4139-9804-4f9160201138</td>\n",
       "      <td>False</td>\n",
       "      <td>0.038394</td>\n",
       "      <td>0.022258</td>\n",
       "      <td>0.016135</td>\n",
       "    </tr>\n",
       "    <tr>\n",
       "      <th>16</th>\n",
       "      <td>../data/processed/test/no-goal/b463b943-b669-4409-aa62-4a020fe75d96.png</td>\n",
       "      <td>b463b943-b669-4409-aa62-4a020fe75d96</td>\n",
       "      <td>False</td>\n",
       "      <td>0.088027</td>\n",
       "      <td>0.032635</td>\n",
       "      <td>0.055392</td>\n",
       "    </tr>\n",
       "    <tr>\n",
       "      <th>17</th>\n",
       "      <td>../data/processed/test/no-goal/dc52c3e6-2fc2-490c-9d9f-dc7ddff1ca54.png</td>\n",
       "      <td>dc52c3e6-2fc2-490c-9d9f-dc7ddff1ca54</td>\n",
       "      <td>False</td>\n",
       "      <td>0.208399</td>\n",
       "      <td>0.067277</td>\n",
       "      <td>0.141121</td>\n",
       "    </tr>\n",
       "    <tr>\n",
       "      <th>18</th>\n",
       "      <td>../data/processed/test/no-goal/55de3730-785a-40d5-87a2-7a6acffa8140.png</td>\n",
       "      <td>55de3730-785a-40d5-87a2-7a6acffa8140</td>\n",
       "      <td>False</td>\n",
       "      <td>0.094638</td>\n",
       "      <td>0.056676</td>\n",
       "      <td>0.037963</td>\n",
       "    </tr>\n",
       "    <tr>\n",
       "      <th>19</th>\n",
       "      <td>../data/processed/test/no-goal/36c2b9fb-cea9-4985-aac9-bb582d60e516.png</td>\n",
       "      <td>36c2b9fb-cea9-4985-aac9-bb582d60e516</td>\n",
       "      <td>False</td>\n",
       "      <td>0.097730</td>\n",
       "      <td>0.056581</td>\n",
       "      <td>0.041149</td>\n",
       "    </tr>\n",
       "  </tbody>\n",
       "</table>\n",
       "</div>"
      ],
      "text/plain": [
       "                                                                       path  \\\n",
       "0      ../data/processed/test/goal/85525ef9-5c11-4022-b1bb-c99c2b4d5438.png   \n",
       "1      ../data/processed/test/goal/ec46fa42-ad15-41c3-a636-98d1f1aef472.png   \n",
       "2      ../data/processed/test/goal/2bf35d45-298f-4f3b-a1bb-df95b7082500.png   \n",
       "3      ../data/processed/test/goal/82557ca0-f831-4ed6-9c97-446f511d5b96.png   \n",
       "4      ../data/processed/test/goal/6e60e15e-cdc5-45de-b3c8-9f3fee863f3e.png   \n",
       "5      ../data/processed/test/goal/95f5ce6d-e6d3-40b7-986c-155cb1ca67fd.png   \n",
       "6      ../data/processed/test/goal/4033b905-83ae-4fe4-9efe-f88880c04271.png   \n",
       "7      ../data/processed/test/goal/f233fa8b-52bc-48d4-8477-2c4a6a2f9006.png   \n",
       "8      ../data/processed/test/goal/4a92a72a-3a81-499e-98d1-fdf065025519.png   \n",
       "9      ../data/processed/test/goal/84ab1af4-93c7-479d-ad11-74cdb94813af.png   \n",
       "10  ../data/processed/test/no-goal/dca0498f-0172-4e64-88c7-1d9c3820951d.png   \n",
       "11  ../data/processed/test/no-goal/9fd43d25-1cd5-456e-abf7-f1c5e65086a0.png   \n",
       "12  ../data/processed/test/no-goal/10ab4ba1-4fb9-477d-8d66-56b86424e4ba.png   \n",
       "13  ../data/processed/test/no-goal/c49943ba-2209-4bc6-81ad-9771a14d67a2.png   \n",
       "14  ../data/processed/test/no-goal/4d754438-4fa8-498a-8712-f781be5be361.png   \n",
       "15  ../data/processed/test/no-goal/f172084b-827e-4139-9804-4f9160201138.png   \n",
       "16  ../data/processed/test/no-goal/b463b943-b669-4409-aa62-4a020fe75d96.png   \n",
       "17  ../data/processed/test/no-goal/dc52c3e6-2fc2-490c-9d9f-dc7ddff1ca54.png   \n",
       "18  ../data/processed/test/no-goal/55de3730-785a-40d5-87a2-7a6acffa8140.png   \n",
       "19  ../data/processed/test/no-goal/36c2b9fb-cea9-4985-aac9-bb582d60e516.png   \n",
       "\n",
       "                                      id  is_goal        xg     sb_xg  \\\n",
       "0   85525ef9-5c11-4022-b1bb-c99c2b4d5438     True  0.105497  0.608452   \n",
       "1   ec46fa42-ad15-41c3-a636-98d1f1aef472     True  0.122598  0.084931   \n",
       "2   2bf35d45-298f-4f3b-a1bb-df95b7082500     True  0.052165  0.395538   \n",
       "3   82557ca0-f831-4ed6-9c97-446f511d5b96     True  0.097481  0.045310   \n",
       "4   6e60e15e-cdc5-45de-b3c8-9f3fee863f3e     True  0.192665  0.136169   \n",
       "5   95f5ce6d-e6d3-40b7-986c-155cb1ca67fd     True  0.150370  0.014144   \n",
       "6   4033b905-83ae-4fe4-9efe-f88880c04271     True  0.217345  0.208701   \n",
       "7   f233fa8b-52bc-48d4-8477-2c4a6a2f9006     True  0.017270  0.142359   \n",
       "8   4a92a72a-3a81-499e-98d1-fdf065025519     True  0.078312  0.034720   \n",
       "9   84ab1af4-93c7-479d-ad11-74cdb94813af     True  0.091876  0.520126   \n",
       "10  dca0498f-0172-4e64-88c7-1d9c3820951d    False  0.014975  0.014098   \n",
       "11  9fd43d25-1cd5-456e-abf7-f1c5e65086a0    False  0.194265  0.025252   \n",
       "12  10ab4ba1-4fb9-477d-8d66-56b86424e4ba    False  0.028923  0.062353   \n",
       "13  c49943ba-2209-4bc6-81ad-9771a14d67a2    False  0.021920  0.021908   \n",
       "14  4d754438-4fa8-498a-8712-f781be5be361    False  0.201165  0.143424   \n",
       "15  f172084b-827e-4139-9804-4f9160201138    False  0.038394  0.022258   \n",
       "16  b463b943-b669-4409-aa62-4a020fe75d96    False  0.088027  0.032635   \n",
       "17  dc52c3e6-2fc2-490c-9d9f-dc7ddff1ca54    False  0.208399  0.067277   \n",
       "18  55de3730-785a-40d5-87a2-7a6acffa8140    False  0.094638  0.056676   \n",
       "19  36c2b9fb-cea9-4985-aac9-bb582d60e516    False  0.097730  0.056581   \n",
       "\n",
       "        diff  \n",
       "0   0.502956  \n",
       "1   0.037667  \n",
       "2   0.343374  \n",
       "3   0.052172  \n",
       "4   0.056496  \n",
       "5   0.136227  \n",
       "6   0.008644  \n",
       "7   0.125089  \n",
       "8   0.043593  \n",
       "9   0.428250  \n",
       "10  0.000877  \n",
       "11  0.169013  \n",
       "12  0.033430  \n",
       "13  0.000012  \n",
       "14  0.057742  \n",
       "15  0.016135  \n",
       "16  0.055392  \n",
       "17  0.141121  \n",
       "18  0.037963  \n",
       "19  0.041149  "
      ]
     },
     "execution_count": 10,
     "metadata": {},
     "output_type": "execute_result"
    }
   ],
   "source": [
    "import pandas as pd\n",
    "\n",
    "predictions = pd.DataFrame(shots_predicted)\n",
    "\n",
    "# Add inferred columns\n",
    "predictions['diff'] = abs(predictions['sb_xg'] - predictions['xg'])\n",
    "\n",
    "predictions"
   ]
  },
  {
   "cell_type": "markdown",
   "metadata": {},
   "source": [
    "Compare to SB xG"
   ]
  },
  {
   "cell_type": "code",
   "execution_count": 11,
   "metadata": {
    "scrolled": false
   },
   "outputs": [
    {
     "name": "stdout",
     "output_type": "stream",
     "text": [
      "Im-xG: 0.11\n",
      "SB-xG: 0.61\n",
      "Diff:  0.50\n"
     ]
    },
    {
     "data": {
      "image/png": "[encoded data removed]",
      "text/plain": [
       "<PIL.Image.Image image mode=RGB size=512x384 at 0x7FE75424FF10>"
      ]
     },
     "metadata": {},
     "output_type": "display_data"
    },
    {
     "name": "stdout",
     "output_type": "stream",
     "text": [
      "Im-xG: 0.12\n",
      "SB-xG: 0.08\n",
      "Diff:  0.04\n"
     ]
    },
    {
     "data": {
      "image/png": "[encoded data removed]",
      "text/plain": [
       "<PIL.Image.Image image mode=RGB size=512x384 at 0x7FE6B3107890>"
      ]
     },
     "metadata": {},
     "output_type": "display_data"
    },
    {
     "name": "stdout",
     "output_type": "stream",
     "text": [
      "Im-xG: 0.05\n",
      "SB-xG: 0.40\n",
      "Diff:  0.34\n"
     ]
    },
    {
     "data": {
      "image/png": "[encoded data removed]",
      "text/plain": [
       "<PIL.Image.Image image mode=RGB size=512x384 at 0x7FE6DCBA2450>"
      ]
     },
     "metadata": {},
     "output_type": "display_data"
    },
    {
     "name": "stdout",
     "output_type": "stream",
     "text": [
      "Im-xG: 0.10\n",
      "SB-xG: 0.05\n",
      "Diff:  0.05\n"
     ]
    },
    {
     "data": {
      "image/png": "[encoded data removed]",
      "text/plain": [
       "<PIL.Image.Image image mode=RGB size=512x384 at 0x7FE6B054E950>"
      ]
     },
     "metadata": {},
     "output_type": "display_data"
    },
    {
     "name": "stdout",
     "output_type": "stream",
     "text": [
      "Im-xG: 0.19\n",
      "SB-xG: 0.14\n",
      "Diff:  0.06\n"
     ]
    },
    {
     "data": {
      "image/png": "[encoded data removed]",
      "text/plain": [
       "<PIL.Image.Image image mode=RGB size=512x384 at 0x7FE6B3107890>"
      ]
     },
     "metadata": {},
     "output_type": "display_data"
    },
    {
     "name": "stdout",
     "output_type": "stream",
     "text": [
      "Im-xG: 0.15\n",
      "SB-xG: 0.01\n",
      "Diff:  0.14\n"
     ]
    },
    {
     "data": {
      "image/png": "[encoded data removed]",
      "text/plain": [
       "<PIL.Image.Image image mode=RGB size=512x384 at 0x7FE75424FF10>"
      ]
     },
     "metadata": {},
     "output_type": "display_data"
    },
    {
     "name": "stdout",
     "output_type": "stream",
     "text": [
      "Im-xG: 0.22\n",
      "SB-xG: 0.21\n",
      "Diff:  0.01\n"
     ]
    },
    {
     "data": {
      "image/png": "[encoded data removed]",
      "text/plain": [
       "<PIL.Image.Image image mode=RGB size=512x384 at 0x7FE6DCC762D0>"
      ]
     },
     "metadata": {},
     "output_type": "display_data"
    },
    {
     "name": "stdout",
     "output_type": "stream",
     "text": [
      "Im-xG: 0.02\n",
      "SB-xG: 0.14\n",
      "Diff:  0.13\n"
     ]
    },
    {
     "data": {
      "image/png": "[encoded data removed]",
      "text/plain": [
       "<PIL.Image.Image image mode=RGB size=512x384 at 0x7FE6DCBA2450>"
      ]
     },
     "metadata": {},
     "output_type": "display_data"
    },
    {
     "name": "stdout",
     "output_type": "stream",
     "text": [
      "Im-xG: 0.08\n",
      "SB-xG: 0.03\n",
      "Diff:  0.04\n"
     ]
    },
    {
     "data": {
      "image/png": "[encoded data removed]",
      "text/plain": [
       "<PIL.Image.Image image mode=RGB size=512x384 at 0x7FE6B0554F50>"
      ]
     },
     "metadata": {},
     "output_type": "display_data"
    },
    {
     "name": "stdout",
     "output_type": "stream",
     "text": [
      "Im-xG: 0.09\n",
      "SB-xG: 0.52\n",
      "Diff:  0.43\n"
     ]
    },
    {
     "data": {
      "image/png": "[encoded data removed]",
      "text/plain": [
       "<PIL.Image.Image image mode=RGB size=512x384 at 0x7FE6B0554950>"
      ]
     },
     "metadata": {},
     "output_type": "display_data"
    }
   ],
   "source": [
    "for _, p in predictions.head(10).iterrows():\n",
    "    img = PILImage.create(p['path']).to_thumb(512, 512)\n",
    "    print(f'Im-xG: {p[\"xg\"]:.2f}')\n",
    "    print(f'SB-xG: {p[\"sb_xg\"]:.2f}')\n",
    "    print(f'Diff:  {p[\"diff\"]:.2f}')\n",
    "    display(img)"
   ]
  },
  {
   "cell_type": "code",
   "execution_count": 12,
   "metadata": {},
   "outputs": [],
   "source": [
    "# Compare overall error rate between SB and image xG"
   ]
  },
  {
   "cell_type": "code",
   "execution_count": 13,
   "metadata": {},
   "outputs": [],
   "source": [
    "# Show the most different N predictions (top & bottom)"
   ]
  }
 ],
 "metadata": {
  "kernelspec": {
   "display_name": "Python 3",
   "language": "python",
   "name": "python3"
  },
  "language_info": {
   "codemirror_mode": {
    "name": "ipython",
    "version": 3
   },
   "file_extension": ".py",
   "mimetype": "text/x-python",
   "name": "python",
   "nbconvert_exporter": "python",
   "pygments_lexer": "ipython3",
   "version": "3.7.7"
  }
 },
 "nbformat": 4,
 "nbformat_minor": 4
}
