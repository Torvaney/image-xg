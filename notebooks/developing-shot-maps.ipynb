{
 "cells": [
  {
   "cell_type": "code",
   "execution_count": 9,
   "metadata": {},
   "outputs": [],
   "source": [
    "import json\n",
    "from pathlib import Path\n",
    "\n",
    "\n",
    "def is_data_file(f):\n",
    "    return Path(f).suffix == '.json'\n",
    "\n",
    "# Load data\n",
    "DATA_PATH = Path('../data/raw')\n",
    "\n",
    "data = []\n",
    "for filepath in DATA_PATH.iterdir():\n",
    "    if not is_data_file(filepath):\n",
    "        continue\n",
    "    with open(filepath, 'r') as shot_file:\n",
    "        data.append(json.load(shot_file))"
   ]
  },
  {
   "cell_type": "markdown",
   "metadata": {},
   "source": [
    "First, we need to process the data into a nice format for plotting"
   ]
  },
  {
   "cell_type": "code",
   "execution_count": 74,
   "metadata": {
    "scrolled": true
   },
   "outputs": [
    {
     "data": {
      "text/plain": [
       "[(0, 'Right Foot'),\n",
       " (1, 'Right Foot'),\n",
       " (2, 'Left Foot'),\n",
       " (3, 'Head'),\n",
       " (4, 'Left Foot'),\n",
       " (5, 'Left Foot'),\n",
       " (6, 'Right Foot'),\n",
       " (7, 'Right Foot'),\n",
       " (8, 'Head'),\n",
       " (9, 'Right Foot'),\n",
       " (10, 'Right Foot'),\n",
       " (11, 'Head'),\n",
       " (12, 'Right Foot'),\n",
       " (13, 'Left Foot'),\n",
       " (14, 'Head'),\n",
       " (15, 'Right Foot'),\n",
       " (16, 'Left Foot'),\n",
       " (17, 'Right Foot'),\n",
       " (18, 'Left Foot'),\n",
       " (19, 'Left Foot'),\n",
       " (20, 'Right Foot'),\n",
       " (21, 'Left Foot'),\n",
       " (22, 'Right Foot'),\n",
       " (23, 'Right Foot'),\n",
       " (24, 'Head'),\n",
       " (25, 'Right Foot'),\n",
       " (26, 'Left Foot'),\n",
       " (27, 'Left Foot'),\n",
       " (28, 'Right Foot'),\n",
       " (29, 'Right Foot'),\n",
       " (30, 'Head'),\n",
       " (31, 'Right Foot'),\n",
       " (32, 'Right Foot'),\n",
       " (33, 'Left Foot'),\n",
       " (34, 'Head'),\n",
       " (35, 'Right Foot'),\n",
       " (36, 'Right Foot'),\n",
       " (37, 'Left Foot'),\n",
       " (38, 'Left Foot'),\n",
       " (39, 'Head'),\n",
       " (40, 'Left Foot'),\n",
       " (41, 'Head'),\n",
       " (42, 'Right Foot'),\n",
       " (43, 'Right Foot'),\n",
       " (44, 'Head'),\n",
       " (45, 'Left Foot'),\n",
       " (46, 'Right Foot'),\n",
       " (47, 'Right Foot'),\n",
       " (48, 'Head'),\n",
       " (49, 'Head')]"
      ]
     },
     "execution_count": 74,
     "metadata": {},
     "output_type": "execute_result"
    }
   ],
   "source": [
    "list(enumerate(d['shot']['body_part']['name'] for d in data))"
   ]
  },
  {
   "cell_type": "code",
   "execution_count": 110,
   "metadata": {
    "scrolled": true
   },
   "outputs": [
    {
     "data": {
      "text/plain": [
       "{'type': {'id': 87, 'name': 'Open Play'},\n",
       " 'outcome': {'id': 98, 'name': 'Off T'},\n",
       " 'body_part': {'id': 37, 'name': 'Head'},\n",
       " 'technique': {'id': 93, 'name': 'Normal'},\n",
       " 'key_pass_id': '29c71c5b-ad12-476b-baa1-acd32dd2b053',\n",
       " 'end_location': [120.0, 37.0, 4.5],\n",
       " 'freeze_frame': [{'player': {'id': 3099, 'name': 'Hugo Lloris'},\n",
       "   'location': [118.2, 39.9],\n",
       "   'position': {'id': 1, 'name': 'Goalkeeper'},\n",
       "   'teammate': False},\n",
       "  {'player': {'id': 3481, 'name': 'Serge Aurier'},\n",
       "   'location': [111.5, 37.2],\n",
       "   'position': {'id': 2, 'name': 'Right Back'},\n",
       "   'teammate': False},\n",
       "  {'player': {'id': 3086, 'name': 'Ben Davies'},\n",
       "   'location': [100.2, 64.3],\n",
       "   'position': {'id': 6, 'name': 'Left Back'},\n",
       "   'teammate': False},\n",
       "  {'player': {'id': 3082, 'name': 'Harry Winks'},\n",
       "   'location': [103.8, 55.7],\n",
       "   'position': {'id': 10, 'name': 'Center Defensive Midfield'},\n",
       "   'teammate': False},\n",
       "  {'player': {'id': 4718, 'name': 'Harvey Lewis Barnes'},\n",
       "   'location': [96.5, 49.3],\n",
       "   'position': {'id': 21, 'name': 'Left Wing'},\n",
       "   'teammate': True},\n",
       "  {'player': {'id': 3313, 'name': 'Giovani Lo Celso'},\n",
       "   'location': [91.0, 45.1],\n",
       "   'position': {'id': 15, 'name': 'Left Center Midfield'},\n",
       "   'teammate': False},\n",
       "  {'player': {'id': 3494, 'name': 'Davinson Sánchez Mina'},\n",
       "   'location': [111.1, 38.9],\n",
       "   'position': {'id': 3, 'name': 'Right Center Back'},\n",
       "   'teammate': False},\n",
       "  {'player': {'id': 3745, 'name': 'Lucas Rodrigues Moura da Silva'},\n",
       "   'location': [94.3, 56.8],\n",
       "   'position': {'id': 17, 'name': 'Right Wing'},\n",
       "   'teammate': False},\n",
       "  {'player': {'id': 3091, 'name': 'Moussa Sissoko'},\n",
       "   'location': [98.6, 44.3],\n",
       "   'position': {'id': 13, 'name': 'Right Center Midfield'},\n",
       "   'teammate': False},\n",
       "  {'player': {'id': 9676, 'name': 'James Justin'},\n",
       "   'location': [97.1, 67.6],\n",
       "   'position': {'id': 7, 'name': 'Right Wing Back'},\n",
       "   'teammate': True},\n",
       "  {'player': {'id': 20005, 'name': 'Toby Alderweireld'},\n",
       "   'location': [107.8, 49.0],\n",
       "   'position': {'id': 5, 'name': 'Left Center Back'},\n",
       "   'teammate': False},\n",
       "  {'player': {'id': 3076, 'name': 'Ayoze Pérez Gutiérrez'},\n",
       "   'location': [105.6, 52.1],\n",
       "   'position': {'id': 17, 'name': 'Right Wing'},\n",
       "   'teammate': True},\n",
       "  {'player': {'id': 2954, 'name': 'Youri Tielemans'},\n",
       "   'location': [104.8, 47.1],\n",
       "   'position': {'id': 15, 'name': 'Left Center Midfield'},\n",
       "   'teammate': True}],\n",
       " 'statsbomb_xg': 0.07483773}"
      ]
     },
     "execution_count": 110,
     "metadata": {},
     "output_type": "execute_result"
    }
   ],
   "source": [
    "shot = data[8]\n",
    "\n",
    "shot['shot']"
   ]
  },
  {
   "cell_type": "markdown",
   "metadata": {},
   "source": [
    "Then we can get to the plotting.\n",
    "\n",
    "First, let's just set up a basic pitch."
   ]
  },
  {
   "cell_type": "code",
   "execution_count": 111,
   "metadata": {},
   "outputs": [
    {
     "data": {
      "image/png": "[encoded data removed]",
      "text/plain": [
       "<Figure size 432x288 with 1 Axes>"
      ]
     },
     "metadata": {},
     "output_type": "display_data"
    }
   ],
   "source": [
    "%matplotlib inline\n",
    "import matplotlib\n",
    "import matplotlib.pyplot as plt\n",
    "from mplsoccer.pitch import Pitch\n",
    "\n",
    "def init_pitch():\n",
    "    pitch = Pitch(pitch_color=None, line_color='lightgray', stripe=False)\n",
    "    fig, ax = pitch.draw()\n",
    "    return fig, ax\n",
    "\n",
    "__ = init_pitch()"
   ]
  },
  {
   "cell_type": "markdown",
   "metadata": {},
   "source": [
    "Very nice!\n",
    "\n",
    "Now let's layer on the detail."
   ]
  },
  {
   "cell_type": "code",
   "execution_count": 114,
   "metadata": {
    "scrolled": true
   },
   "outputs": [
    {
     "data": {
      "text/plain": [
       "{'id': '2deb4d06-d418-431a-99ac-d74c74d7ec0b',\n",
       " 'shot': {'type': {'id': 87, 'name': 'Open Play'},\n",
       "  'outcome': {'id': 98, 'name': 'Off T'},\n",
       "  'body_part': {'id': 37, 'name': 'Head'},\n",
       "  'technique': {'id': 93, 'name': 'Normal'},\n",
       "  'key_pass_id': '29c71c5b-ad12-476b-baa1-acd32dd2b053',\n",
       "  'end_location': [120.0, 37.0, 4.5],\n",
       "  'freeze_frame': [{'player': {'id': 3099, 'name': 'Hugo Lloris'},\n",
       "    'location': [118.2, 39.9],\n",
       "    'position': {'id': 1, 'name': 'Goalkeeper'},\n",
       "    'teammate': False},\n",
       "   {'player': {'id': 3481, 'name': 'Serge Aurier'},\n",
       "    'location': [111.5, 37.2],\n",
       "    'position': {'id': 2, 'name': 'Right Back'},\n",
       "    'teammate': False},\n",
       "   {'player': {'id': 3086, 'name': 'Ben Davies'},\n",
       "    'location': [100.2, 64.3],\n",
       "    'position': {'id': 6, 'name': 'Left Back'},\n",
       "    'teammate': False},\n",
       "   {'player': {'id': 3082, 'name': 'Harry Winks'},\n",
       "    'location': [103.8, 55.7],\n",
       "    'position': {'id': 10, 'name': 'Center Defensive Midfield'},\n",
       "    'teammate': False},\n",
       "   {'player': {'id': 4718, 'name': 'Harvey Lewis Barnes'},\n",
       "    'location': [96.5, 49.3],\n",
       "    'position': {'id': 21, 'name': 'Left Wing'},\n",
       "    'teammate': True},\n",
       "   {'player': {'id': 3313, 'name': 'Giovani Lo Celso'},\n",
       "    'location': [91.0, 45.1],\n",
       "    'position': {'id': 15, 'name': 'Left Center Midfield'},\n",
       "    'teammate': False},\n",
       "   {'player': {'id': 3494, 'name': 'Davinson Sánchez Mina'},\n",
       "    'location': [111.1, 38.9],\n",
       "    'position': {'id': 3, 'name': 'Right Center Back'},\n",
       "    'teammate': False},\n",
       "   {'player': {'id': 3745, 'name': 'Lucas Rodrigues Moura da Silva'},\n",
       "    'location': [94.3, 56.8],\n",
       "    'position': {'id': 17, 'name': 'Right Wing'},\n",
       "    'teammate': False},\n",
       "   {'player': {'id': 3091, 'name': 'Moussa Sissoko'},\n",
       "    'location': [98.6, 44.3],\n",
       "    'position': {'id': 13, 'name': 'Right Center Midfield'},\n",
       "    'teammate': False},\n",
       "   {'player': {'id': 9676, 'name': 'James Justin'},\n",
       "    'location': [97.1, 67.6],\n",
       "    'position': {'id': 7, 'name': 'Right Wing Back'},\n",
       "    'teammate': True},\n",
       "   {'player': {'id': 20005, 'name': 'Toby Alderweireld'},\n",
       "    'location': [107.8, 49.0],\n",
       "    'position': {'id': 5, 'name': 'Left Center Back'},\n",
       "    'teammate': False},\n",
       "   {'player': {'id': 3076, 'name': 'Ayoze Pérez Gutiérrez'},\n",
       "    'location': [105.6, 52.1],\n",
       "    'position': {'id': 17, 'name': 'Right Wing'},\n",
       "    'teammate': True},\n",
       "   {'player': {'id': 2954, 'name': 'Youri Tielemans'},\n",
       "    'location': [104.8, 47.1],\n",
       "    'position': {'id': 15, 'name': 'Left Center Midfield'},\n",
       "    'teammate': True}],\n",
       "  'statsbomb_xg': 0.07483773},\n",
       " 'team': {'id': 22, 'name': 'Leicester City'},\n",
       " 'type': {'id': 16, 'name': 'Shot'},\n",
       " 'index': 260,\n",
       " 'minute': 7,\n",
       " 'period': 1,\n",
       " 'player': {'id': 10960, 'name': 'Jamie Vardy'},\n",
       " 'second': 24,\n",
       " 'duration': 1.0393,\n",
       " 'location': [110.6, 37.1, 2.19],\n",
       " 'match_id': 299488,\n",
       " 'position': {'id': 23, 'name': 'Center Forward'},\n",
       " 'timestamp': '00:07:24.312',\n",
       " 'possession': 10,\n",
       " 'play_pattern': {'id': 9, 'name': 'From Kick Off'},\n",
       " 'related_events': ['2e4024f8-bbd7-40c9-bf85-dccec16b2a62'],\n",
       " 'possession_team': {'id': 22, 'name': 'Leicester City'}}"
      ]
     },
     "execution_count": 114,
     "metadata": {},
     "output_type": "execute_result"
    }
   ],
   "source": [
    "shot"
   ]
  },
  {
   "cell_type": "code",
   "execution_count": 113,
   "metadata": {},
   "outputs": [
    {
     "data": {
      "text/plain": [
       "<matplotlib.collections.PathCollection at 0x129cd0240>"
      ]
     },
     "execution_count": 113,
     "metadata": {},
     "output_type": "execute_result"
    },
    {
     "data": {
      "image/png": "[encoded data removed]",
      "text/plain": [
       "<Figure size 432x288 with 1 Axes>"
      ]
     },
     "metadata": {},
     "output_type": "display_data"
    }
   ],
   "source": [
    "unzip = lambda l: zip(*l)\n",
    "\n",
    "\n",
    "def is_gk(player):\n",
    "    return player['position']['name'] == 'Goalkeeper'\n",
    "\n",
    "\n",
    "def shot_marker(shot):\n",
    "    body_part = shot['shot']['body_part']['name']\n",
    "    if body_part == 'Right Foot':\n",
    "        return matplotlib.markers.CARETUP\n",
    "    if body_part == 'Left Foot':\n",
    "        return matplotlib.markers.CARETDOWN\n",
    "    if body_part == 'Head':\n",
    "        return 'P'\n",
    "    return 'P'\n",
    "\n",
    "\n",
    "def extract_xy(freeze_frame, condition=lambda x: True):\n",
    "    return unzip(\n",
    "        [p['location'] for p in freeze_frame if condition(p)]\n",
    "    )\n",
    "\n",
    "\n",
    "fig, ax = init_pitch()\n",
    "\n",
    "# Add the teammates\n",
    "x, y = extract_xy(shot['shot']['freeze_frame'], lambda x: x['teammate'])\n",
    "ax.scatter(x, y, color = 'red') \n",
    "\n",
    "# Add the outfield opposition\n",
    "x, y = extract_xy(shot['shot']['freeze_frame'], lambda x: not x['teammate'] and not is_gk(x))\n",
    "ax.scatter(x, y, color = 'blue')\n",
    "\n",
    "# Add the goalkeeper\n",
    "x, y = extract_xy(shot['shot']['freeze_frame'], lambda x: not x['teammate'] and is_gk(x))\n",
    "ax.scatter(x, y, color = 'green')\n",
    "\n",
    "# Add the shooter/ball/shot location\n",
    "x, y, z = shot['location']\n",
    "ax.scatter(x, y, color = 'hotpink', marker=shot_marker(shot))"
   ]
  },
  {
   "cell_type": "code",
   "execution_count": 118,
   "metadata": {},
   "outputs": [],
   "source": [
    "fig.savefig(\n",
    "    Path('../data/processed/TEST.png'),\n",
    "    dpi=280\n",
    ")"
   ]
  },
  {
   "cell_type": "raw",
   "metadata": {},
   "source": []
  }
 ],
 "metadata": {
  "kernelspec": {
   "display_name": "Python 3",
   "language": "python",
   "name": "python3"
  },
  "language_info": {
   "codemirror_mode": {
    "name": "ipython",
    "version": 3
   },
   "file_extension": ".py",
   "mimetype": "text/x-python",
   "name": "python",
   "nbconvert_exporter": "python",
   "pygments_lexer": "ipython3",
   "version": "3.7.2"
  }
 },
 "nbformat": 4,
 "nbformat_minor": 4
}
