{
 "cells": [
  {
   "cell_type": "code",
   "execution_count": 1,
   "metadata": {},
   "outputs": [],
   "source": [
    "import json\n",
    "from pathlib import Path\n",
    "\n",
    "\n",
    "def is_data_file(f):\n",
    "    return Path(f).suffix == '.json'\n",
    "\n",
    "# Load data\n",
    "DATA_PATH = Path('../data/raw')\n",
    "\n",
    "data = []\n",
    "for filepath in DATA_PATH.iterdir():\n",
    "    if not is_data_file(filepath):\n",
    "        continue\n",
    "    with open(filepath, 'r') as shot_file:\n",
    "        data.append(json.load(shot_file))"
   ]
  },
  {
   "cell_type": "markdown",
   "metadata": {},
   "source": [
    "First, we need to process the data into a nice format for plotting"
   ]
  },
  {
   "cell_type": "code",
   "execution_count": 13,
   "metadata": {
    "scrolled": true
   },
   "outputs": [],
   "source": [
    "shot = sorted(data, key=lambda x: -x['shot']['statsbomb_xg'])[10]"
   ]
  },
  {
   "cell_type": "code",
   "execution_count": 14,
   "metadata": {
    "scrolled": true
   },
   "outputs": [
    {
     "data": {
      "text/plain": [
       "{'id': '4f713d76-7003-4b81-8f29-4075e1db1fe4',\n",
       " 'shot': {'type': {'id': 87, 'name': 'Open Play'},\n",
       "  'outcome': {'id': 97, 'name': 'Goal'},\n",
       "  'body_part': {'id': 40, 'name': 'Right Foot'},\n",
       "  'open_goal': True,\n",
       "  'technique': {'id': 93, 'name': 'Normal'},\n",
       "  'first_time': True,\n",
       "  'key_pass_id': '6a1b5d2b-9d13-46c0-aa16-a50c8e818040',\n",
       "  'end_location': [119.9, 37.4, 0.6],\n",
       "  'freeze_frame': [{'player': {'id': 3459, 'name': 'Alfie Mawson'},\n",
       "    'location': [119.5, 52.6],\n",
       "    'position': {'id': 5, 'name': 'Left Center Back'},\n",
       "    'teammate': False},\n",
       "   {'player': {'id': 10282, 'name': 'Kouassi Ryan Sessegnon'},\n",
       "    'location': [109.3, 60.7],\n",
       "    'position': {'id': 6, 'name': 'Left Back'},\n",
       "    'teammate': False},\n",
       "   {'player': {'id': 10283, 'name': 'Stefan Marius Johansen'},\n",
       "    'location': [110.9, 49.8],\n",
       "    'position': {'id': 16, 'name': 'Left Midfield'},\n",
       "    'teammate': False},\n",
       "   {'player': {'id': 3359, 'name': 'Jean Michaël Seri'},\n",
       "    'location': [109.0, 40.1],\n",
       "    'position': {'id': 12, 'name': 'Right Midfield'},\n",
       "    'teammate': False},\n",
       "   {'player': {'id': 10279, 'name': 'Kevin McDonald'},\n",
       "    'location': [113.2, 44.3],\n",
       "    'position': {'id': 14, 'name': 'Center Midfield'},\n",
       "    'teammate': False},\n",
       "   {'player': {'id': 12259, 'name': 'Denis Odoi'},\n",
       "    'location': [117.6, 43.0],\n",
       "    'position': {'id': 3, 'name': 'Right Center Back'},\n",
       "    'teammate': False},\n",
       "   {'player': {'id': 12258, 'name': 'Marcus Bettinelli'},\n",
       "    'location': [118.8, 43.9],\n",
       "    'position': {'id': 1, 'name': 'Goalkeeper'},\n",
       "    'teammate': False},\n",
       "   {'player': {'id': 3237, 'name': 'Sergio Leonel Agüero del Castillo'},\n",
       "    'location': [120.0, 53.5],\n",
       "    'position': {'id': 23, 'name': 'Center Forward'},\n",
       "    'teammate': True},\n",
       "   {'player': {'id': 3064, 'name': 'David Josué Jiménez Silva'},\n",
       "    'location': [113.7, 41.6],\n",
       "    'position': {'id': 15, 'name': 'Left Center Midfield'},\n",
       "    'teammate': True},\n",
       "   {'player': {'id': 3053, 'name': 'Leroy Sané'},\n",
       "    'location': [106.1, 27.2],\n",
       "    'position': {'id': 24, 'name': 'Left Center Forward'},\n",
       "    'teammate': True},\n",
       "   {'player': {'id': 10278, 'name': 'Cyrus Christie'},\n",
       "    'location': [115.9, 36.0],\n",
       "    'position': {'id': 2, 'name': 'Right Back'},\n",
       "    'teammate': False}],\n",
       "  'statsbomb_xg': 0.8640414,\n",
       "  'statsbomb_xg2': 0.8653831},\n",
       " 'team': {'id': 36, 'name': 'Manchester City'},\n",
       " 'type': {'id': 16, 'name': 'Shot'},\n",
       " 'index': 1916,\n",
       " 'minute': 46,\n",
       " 'period': 2,\n",
       " 'player': {'id': 3233, 'name': 'Raheem Shaquille Sterling'},\n",
       " 'second': 38,\n",
       " 'duration': 0.377275,\n",
       " 'location': [117.1, 40.1],\n",
       " 'match_id': 14319,\n",
       " 'position': {'id': 22, 'name': 'Right Center Forward'},\n",
       " 'timestamp': '00:01:38.529',\n",
       " 'possession': 94,\n",
       " 'play_pattern': {'id': 1, 'name': 'Regular Play'},\n",
       " 'related_events': ['061833e4-109d-40d3-b120-a7683a8039ce'],\n",
       " 'possession_team': {'id': 36, 'name': 'Manchester City'}}"
      ]
     },
     "execution_count": 14,
     "metadata": {},
     "output_type": "execute_result"
    }
   ],
   "source": [
    "shot"
   ]
  },
  {
   "cell_type": "markdown",
   "metadata": {},
   "source": [
    "## 1. Literal pitch-plot"
   ]
  },
  {
   "cell_type": "markdown",
   "metadata": {},
   "source": [
    "Then we can get to the plotting.\n",
    "\n",
    "First, let's just set up a basic pitch."
   ]
  },
  {
   "cell_type": "code",
   "execution_count": 7,
   "metadata": {},
   "outputs": [
    {
     "data": {
      "image/png": "[encoded data removed]",
      "text/plain": [
       "<Figure size 432x288 with 1 Axes>"
      ]
     },
     "metadata": {},
     "output_type": "display_data"
    }
   ],
   "source": [
    "%matplotlib inline\n",
    "import matplotlib\n",
    "import matplotlib.pyplot as plt\n",
    "from mplsoccer.pitch import Pitch\n",
    "\n",
    "def init_pitch():\n",
    "    pitch = Pitch(pitch_color=None, line_color='whitesmoke', stripe=False)\n",
    "    fig, ax = pitch.draw()\n",
    "    return fig, ax\n",
    "\n",
    "__ = init_pitch()"
   ]
  },
  {
   "cell_type": "markdown",
   "metadata": {},
   "source": [
    "Very nice!\n",
    "\n",
    "Now let's layer on the detail."
   ]
  },
  {
   "cell_type": "code",
   "execution_count": 9,
   "metadata": {},
   "outputs": [
    {
     "data": {
      "image/png": "[encoded data removed]",
      "text/plain": [
       "<Figure size 432x288 with 1 Axes>"
      ]
     },
     "metadata": {},
     "output_type": "display_data"
    }
   ],
   "source": [
    "unzip = lambda l: list(zip(*l))\n",
    "\n",
    "\n",
    "def is_gk(player):\n",
    "    return player['position']['name'] == 'Goalkeeper'\n",
    "\n",
    "\n",
    "def shot_marker(shot):\n",
    "    body_part = shot['shot']['body_part']['name']\n",
    "    if body_part == 'Right Foot':\n",
    "        return matplotlib.markers.CARETUP\n",
    "    if body_part == 'Left Foot':\n",
    "        return matplotlib.markers.CARETDOWN\n",
    "    if body_part == 'Head':\n",
    "        return 'P'\n",
    "    return 'P'\n",
    "\n",
    "\n",
    "def extract_xy(freeze_frame, condition=lambda x: True):\n",
    "    return unzip(\n",
    "        [p['location'] for p in freeze_frame if condition(p)]\n",
    "    )\n",
    "\n",
    "\n",
    "fig, ax = init_pitch()\n",
    "\n",
    "\n",
    "# Add shot angle\n",
    "shot_x, shot_y, *__ = shot['location']\n",
    "post_x = 120\n",
    "post_y1, post_y2 = (36, 44)\n",
    "tri = plt.Polygon([[shot_x, shot_y], [post_x, post_y1], [post_x, post_y2]], color='pink', alpha = 0.5)\n",
    "fig.gca().add_patch(tri)\n",
    "\n",
    "# Add the teammates\n",
    "x, y = extract_xy(shot['shot']['freeze_frame'], lambda x: x['teammate'])\n",
    "ax.scatter(x, y, color = 'red') \n",
    "\n",
    "# Add the outfield opposition\n",
    "x, y = extract_xy(shot['shot']['freeze_frame'], lambda x: not x['teammate'] and not is_gk(x))\n",
    "ax.scatter(x, y, color = 'blue')\n",
    "\n",
    "# Add the goalkeeper\n",
    "x, y = extract_xy(shot['shot']['freeze_frame'], lambda x: not x['teammate'] and is_gk(x))\n",
    "ax.scatter(x, y, color = 'green')\n",
    "\n",
    "# Add the shooter/ball/shot location and metadata (body pdata:image/png;base64,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)\n",
    "ax.scatter(shot_x, shot_y, color = 'hotpink', marker=shot_marker(shot))\n",
    "\n",
    "ax.set_xlim(55, 125)\n",
    "\n",
    "None  # Supress last output"
   ]
  },
  {
   "cell_type": "code",
   "execution_count": 10,
   "metadata": {},
   "outputs": [],
   "source": [
    "fig.savefig(\n",
    "    Path('../data/processed/TEST.png'),\n",
    "    dpi=280\n",
    ")"
   ]
  },
  {
   "cell_type": "markdown",
   "metadata": {},
   "source": [
    "## 2. (soft?) Voronoi pitch-plot"
   ]
  },
  {
   "cell_type": "code",
   "execution_count": 11,
   "metadata": {},
   "outputs": [],
   "source": [
    "import scipy.spatial\n",
    "from scipy.spatial import voronoi_plot_2d, Voronoi\n",
    "\n",
    "xy = [shot['location'][0:2]] + unzip(extract_xy(shot['shot']['freeze_frame']))\n",
    "\n",
    "# Create a bounded voronoi by reflecting points in each axis\n",
    "def reflect_x(xy, max_x=120):\n",
    "    return [[max_x + (max_x - x), y] for x, y in xy]\n",
    "\n",
    "def reflect_y(xy, max_y=80):\n",
    "    return [[x, (max_y + (max_y - y))] for x, y in xy]\n",
    "\n",
    "v = Voronoi([\n",
    "    *xy,\n",
    "    *reflect_x(xy, 121),\n",
    "    *reflect_x(xy, -1),\n",
    "    *reflect_y(xy, 81),\n",
    "    *reflect_y(xy, -1),\n",
    "])"
   ]
  },
  {
   "cell_type": "code",
   "execution_count": 18,
   "metadata": {},
   "outputs": [
    {
     "data": {
      "image/png": "[encoded data removed]",
      "text/plain": [
       "<Figure size 432x288 with 1 Axes>"
      ]
     },
     "metadata": {},
     "output_type": "display_data"
    }
   ],
   "source": [
    "fig, ax = init_pitch()\n",
    "\n",
    "\n",
    "def get_region_colour(player):\n",
    "    if player['teammate']:\n",
    "        return 'pink'\n",
    "    if not player['teammate'] and not is_gk(player):\n",
    "        return 'skyblue'\n",
    "    if is_gk(player):\n",
    "        return 'green'\n",
    "\n",
    "    \n",
    "for player, region_ix in zip(shot['shot']['freeze_frame'], v.point_region[1:]):\n",
    "    region = v.regions[region_ix]\n",
    "    if (-1 in region) or (len(region) == 0):\n",
    "        continue\n",
    "    \n",
    "    xy = [list(v.vertices[i]) for i in region]\n",
    "    plt_region = plt.Polygon(\n",
    "        xy, \n",
    "        color=get_region_colour(player), \n",
    "        alpha = 0.5\n",
    "    )\n",
    "    fig.gca().add_patch(plt_region)\n",
    "\n",
    "\n",
    "# Add shot angle\n",
    "shot_x, shot_y, *__ = shot['location']\n",
    "post_x = 121\n",
    "post_y1, post_y2 = (36, 44)\n",
    "tri = plt.Polygon([[shot_x, shot_y], [post_x, post_y1], [post_x, post_y2]], color='orange', alpha = 0.9)\n",
    "fig.gca().add_patch(tri)\n",
    "\n",
    "    \n",
    "ax.set_xlim(55, 125)\n",
    "\n",
    "None  # Supress last output"
   ]
  },
  {
   "cell_type": "code",
   "execution_count": null,
   "metadata": {},
   "outputs": [],
   "source": []
  },
  {
   "cell_type": "code",
   "execution_count": null,
   "metadata": {},
   "outputs": [],
   "source": []
  },
  {
   "cell_type": "code",
   "execution_count": null,
   "metadata": {},
   "outputs": [],
   "source": []
  }
 ],
 "metadata": {
  "kernelspec": {
   "display_name": "Python 3",
   "language": "python",
   "name": "python3"
  },
  "language_info": {
   "codemirror_mode": {
    "name": "ipython",
    "version": 3
   },
   "file_extension": ".py",
   "mimetype": "text/x-python",
   "name": "python",
   "nbconvert_exporter": "python",
   "pygments_lexer": "ipython3",
   "version": "3.7.2"
  }
 },
 "nbformat": 4,
 "nbformat_minor": 4
}
